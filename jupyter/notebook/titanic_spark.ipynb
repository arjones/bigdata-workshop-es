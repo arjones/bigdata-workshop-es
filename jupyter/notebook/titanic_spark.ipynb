{
 "cells": [
  {
   "cell_type": "markdown",
   "metadata": {},
   "source": [
    "# Clasificación con data de hundimiento del Titanic"
   ]
  },
  {
   "cell_type": "code",
   "execution_count": 1,
   "metadata": {},
   "outputs": [],
   "source": [
    "import findspark\n",
    "findspark.init()"
   ]
  },
  {
   "cell_type": "code",
   "execution_count": 2,
   "metadata": {},
   "outputs": [],
   "source": [
    "from pyspark.sql import SparkSession\n",
    "spark = SparkSession.builder.appName('pyspark-titanic').getOrCreate()"
   ]
  },
  {
   "cell_type": "code",
   "execution_count": 3,
   "metadata": {},
   "outputs": [
    {
     "data": {
      "text/plain": [
       "'2.4.4'"
      ]
     },
     "execution_count": 3,
     "metadata": {},
     "output_type": "execute_result"
    }
   ],
   "source": [
    "spark.version"
   ]
  },
  {
   "cell_type": "code",
   "execution_count": 4,
   "metadata": {},
   "outputs": [],
   "source": [
    "dft = spark.read.csv('/dataset/titanic.csv', header=True)"
   ]
  },
  {
   "cell_type": "code",
   "execution_count": 5,
   "metadata": {},
   "outputs": [
    {
     "name": "stdout",
     "output_type": "stream",
     "text": [
      "+------+--------+--------------------+------+----+-----+-----+--------+--------+-------+--------+----+-----+--------------------+\n",
      "|pclass|survived|                name|   sex| age|sibsp|parch|  ticket|    fare|  cabin|embarked|boat| body|           home.dest|\n",
      "+------+--------+--------------------+------+----+-----+-----+--------+--------+-------+--------+----+-----+--------------------+\n",
      "|     1|       1|Allen, Miss. Elis...|female|29.0|    0|    0|   24160|211.3375|     B5|       S|   2| null|        St Louis, MO|\n",
      "|     1|       1|Allison, Master. ...|  male|0.92|    1|    2|  113781|  151.55|C22 C26|       S|  11| null|Montreal, PQ / Ch...|\n",
      "|     1|       0|Allison, Miss. He...|female| 2.0|    1|    2|  113781|  151.55|C22 C26|       S|null| null|Montreal, PQ / Ch...|\n",
      "|     1|       0|Allison, Mr. Huds...|  male|30.0|    1|    2|  113781|  151.55|C22 C26|       S|null|135.0|Montreal, PQ / Ch...|\n",
      "|     1|       0|Allison, Mrs. Hud...|female|25.0|    1|    2|  113781|  151.55|C22 C26|       S|null| null|Montreal, PQ / Ch...|\n",
      "|     1|       1| Anderson, Mr. Harry|  male|48.0|    0|    0|   19952|   26.55|    E12|       S|   3| null|        New York, NY|\n",
      "|     1|       1|Andrews, Miss. Ko...|female|63.0|    1|    0|   13502| 77.9583|     D7|       S|  10| null|          Hudson, NY|\n",
      "|     1|       0|Andrews, Mr. Thom...|  male|39.0|    0|    0|  112050|     0.0|    A36|       S|null| null|         Belfast, NI|\n",
      "|     1|       1|Appleton, Mrs. Ed...|female|53.0|    2|    0|   11769| 51.4792|   C101|       S|   D| null| Bayside, Queens, NY|\n",
      "|     1|       0|Artagaveytia, Mr....|  male|71.0|    0|    0|PC 17609| 49.5042|   null|       C|null| 22.0| Montevideo, Uruguay|\n",
      "+------+--------+--------------------+------+----+-----+-----+--------+--------+-------+--------+----+-----+--------------------+\n",
      "only showing top 10 rows\n",
      "\n"
     ]
    }
   ],
   "source": [
    "dft.show(10)"
   ]
  },
  {
   "cell_type": "code",
   "execution_count": 6,
   "metadata": {},
   "outputs": [
    {
     "name": "stdout",
     "output_type": "stream",
     "text": [
      "root\n",
      " |-- pclass: string (nullable = true)\n",
      " |-- survived: string (nullable = true)\n",
      " |-- name: string (nullable = true)\n",
      " |-- sex: string (nullable = true)\n",
      " |-- age: string (nullable = true)\n",
      " |-- sibsp: string (nullable = true)\n",
      " |-- parch: string (nullable = true)\n",
      " |-- ticket: string (nullable = true)\n",
      " |-- fare: string (nullable = true)\n",
      " |-- cabin: string (nullable = true)\n",
      " |-- embarked: string (nullable = true)\n",
      " |-- boat: string (nullable = true)\n",
      " |-- body: string (nullable = true)\n",
      " |-- home.dest: string (nullable = true)\n",
      "\n"
     ]
    }
   ],
   "source": [
    "dft.printSchema()"
   ]
  },
  {
   "cell_type": "code",
   "execution_count": 7,
   "metadata": {},
   "outputs": [],
   "source": [
    "from pyspark.sql.types import DoubleType, IntegerType"
   ]
  },
  {
   "cell_type": "code",
   "execution_count": 8,
   "metadata": {},
   "outputs": [],
   "source": [
    "dft = dft.withColumn('survived', dft['survived'].cast(IntegerType()))"
   ]
  },
  {
   "cell_type": "code",
   "execution_count": 9,
   "metadata": {},
   "outputs": [
    {
     "name": "stdout",
     "output_type": "stream",
     "text": [
      "root\n",
      " |-- pclass: string (nullable = true)\n",
      " |-- survived: integer (nullable = true)\n",
      " |-- name: string (nullable = true)\n",
      " |-- sex: string (nullable = true)\n",
      " |-- age: string (nullable = true)\n",
      " |-- sibsp: string (nullable = true)\n",
      " |-- parch: string (nullable = true)\n",
      " |-- ticket: string (nullable = true)\n",
      " |-- fare: string (nullable = true)\n",
      " |-- cabin: string (nullable = true)\n",
      " |-- embarked: string (nullable = true)\n",
      " |-- boat: string (nullable = true)\n",
      " |-- body: string (nullable = true)\n",
      " |-- home.dest: string (nullable = true)\n",
      "\n"
     ]
    }
   ],
   "source": [
    "dft.printSchema()"
   ]
  },
  {
   "cell_type": "code",
   "execution_count": 10,
   "metadata": {},
   "outputs": [
    {
     "name": "stdout",
     "output_type": "stream",
     "text": [
      "+--------+\n",
      "|survived|\n",
      "+--------+\n",
      "|       1|\n",
      "|       1|\n",
      "|       0|\n",
      "|       0|\n",
      "|       0|\n",
      "+--------+\n",
      "only showing top 5 rows\n",
      "\n"
     ]
    }
   ],
   "source": [
    "dft.select('survived').show(5)"
   ]
  },
  {
   "cell_type": "code",
   "execution_count": 11,
   "metadata": {},
   "outputs": [
    {
     "name": "stdout",
     "output_type": "stream",
     "text": [
      "+--------+-----+\n",
      "|survived|count|\n",
      "+--------+-----+\n",
      "|       1|  500|\n",
      "|       0|  809|\n",
      "+--------+-----+\n",
      "\n"
     ]
    }
   ],
   "source": [
    "dft.groupBy('survived').count().orderBy('count').show(10)"
   ]
  },
  {
   "cell_type": "markdown",
   "metadata": {},
   "source": [
    "## Extraccion (Ejercicio 1)"
   ]
  },
  {
   "cell_type": "code",
   "execution_count": 12,
   "metadata": {},
   "outputs": [],
   "source": [
    "from pathlib import Path\n",
    "import pandas as pd"
   ]
  },
  {
   "cell_type": "code",
   "execution_count": 13,
   "metadata": {},
   "outputs": [],
   "source": [
    "def extract_titanic_data(url, refresh_cache=False):\n",
    "    cache_fn = Path('/dataset/titanic_local.csv')\n",
    "    if not cache_fn.exists() or refresh_cache:\n",
    "        print(\"Getting data\")\n",
    "        df = pd.read_csv(url)\n",
    "        df.to_csv(cache_fn, index=False)\n",
    "    print(\"Using cache\")\n",
    "    df = spark.read.csv(str(cache_fn), header=True)\n",
    "    return df"
   ]
  },
  {
   "cell_type": "code",
   "execution_count": 14,
   "metadata": {},
   "outputs": [],
   "source": [
    "url = 'http://biostat.mc.vanderbilt.edu/wiki/pub/Main/DataSets/titanic3.csv'"
   ]
  },
  {
   "cell_type": "code",
   "execution_count": 15,
   "metadata": {},
   "outputs": [
    {
     "name": "stdout",
     "output_type": "stream",
     "text": [
      "Using cache\n"
     ]
    }
   ],
   "source": [
    "df_raw = extract_titanic_data(url)"
   ]
  },
  {
   "cell_type": "code",
   "execution_count": 16,
   "metadata": {},
   "outputs": [
    {
     "data": {
      "text/plain": [
       "pyspark.sql.dataframe.DataFrame"
      ]
     },
     "execution_count": 16,
     "metadata": {},
     "output_type": "execute_result"
    }
   ],
   "source": [
    "type(df_raw)"
   ]
  },
  {
   "cell_type": "code",
   "execution_count": 17,
   "metadata": {},
   "outputs": [
    {
     "name": "stdout",
     "output_type": "stream",
     "text": [
      "+------+--------+--------------------+------+----+-----+-----+--------+--------+-------+--------+----+-----+--------------------+\n",
      "|pclass|survived|                name|   sex| age|sibsp|parch|  ticket|    fare|  cabin|embarked|boat| body|           home.dest|\n",
      "+------+--------+--------------------+------+----+-----+-----+--------+--------+-------+--------+----+-----+--------------------+\n",
      "|     1|       1|Allen, Miss. Elis...|female|29.0|    0|    0|   24160|211.3375|     B5|       S|   2| null|        St Louis, MO|\n",
      "|     1|       1|Allison, Master. ...|  male|0.92|    1|    2|  113781|  151.55|C22 C26|       S|  11| null|Montreal, PQ / Ch...|\n",
      "|     1|       0|Allison, Miss. He...|female| 2.0|    1|    2|  113781|  151.55|C22 C26|       S|null| null|Montreal, PQ / Ch...|\n",
      "|     1|       0|Allison, Mr. Huds...|  male|30.0|    1|    2|  113781|  151.55|C22 C26|       S|null|135.0|Montreal, PQ / Ch...|\n",
      "|     1|       0|Allison, Mrs. Hud...|female|25.0|    1|    2|  113781|  151.55|C22 C26|       S|null| null|Montreal, PQ / Ch...|\n",
      "|     1|       1| Anderson, Mr. Harry|  male|48.0|    0|    0|   19952|   26.55|    E12|       S|   3| null|        New York, NY|\n",
      "|     1|       1|Andrews, Miss. Ko...|female|63.0|    1|    0|   13502| 77.9583|     D7|       S|  10| null|          Hudson, NY|\n",
      "|     1|       0|Andrews, Mr. Thom...|  male|39.0|    0|    0|  112050|     0.0|    A36|       S|null| null|         Belfast, NI|\n",
      "|     1|       1|Appleton, Mrs. Ed...|female|53.0|    2|    0|   11769| 51.4792|   C101|       S|   D| null| Bayside, Queens, NY|\n",
      "|     1|       0|Artagaveytia, Mr....|  male|71.0|    0|    0|PC 17609| 49.5042|   null|       C|null| 22.0| Montevideo, Uruguay|\n",
      "+------+--------+--------------------+------+----+-----+-----+--------+--------+-------+--------+----+-----+--------------------+\n",
      "only showing top 10 rows\n",
      "\n"
     ]
    }
   ],
   "source": [
    "df_raw.show(10)"
   ]
  },
  {
   "cell_type": "code",
   "execution_count": 18,
   "metadata": {},
   "outputs": [
    {
     "name": "stdout",
     "output_type": "stream",
     "text": [
      "root\n",
      " |-- pclass: string (nullable = true)\n",
      " |-- survived: string (nullable = true)\n",
      " |-- name: string (nullable = true)\n",
      " |-- sex: string (nullable = true)\n",
      " |-- age: string (nullable = true)\n",
      " |-- sibsp: string (nullable = true)\n",
      " |-- parch: string (nullable = true)\n",
      " |-- ticket: string (nullable = true)\n",
      " |-- fare: string (nullable = true)\n",
      " |-- cabin: string (nullable = true)\n",
      " |-- embarked: string (nullable = true)\n",
      " |-- boat: string (nullable = true)\n",
      " |-- body: string (nullable = true)\n",
      " |-- home.dest: string (nullable = true)\n",
      "\n"
     ]
    }
   ],
   "source": [
    "df_raw.printSchema()"
   ]
  },
  {
   "cell_type": "code",
   "execution_count": 19,
   "metadata": {},
   "outputs": [
    {
     "name": "stdout",
     "output_type": "stream",
     "text": [
      "root\n",
      " |-- pclass: string (nullable = true)\n",
      " |-- survived: string (nullable = true)\n",
      " |-- name: string (nullable = true)\n",
      " |-- sex: string (nullable = true)\n",
      " |-- age: string (nullable = true)\n",
      " |-- sibsp: string (nullable = true)\n",
      " |-- parch: string (nullable = true)\n",
      " |-- ticket: string (nullable = true)\n",
      " |-- fare: string (nullable = true)\n",
      " |-- cabin: string (nullable = true)\n",
      " |-- embarked: string (nullable = true)\n",
      " |-- boat: string (nullable = true)\n",
      " |-- body: string (nullable = true)\n",
      " |-- home_dest: string (nullable = true)\n",
      "\n"
     ]
    }
   ],
   "source": [
    "# Rename home.dest column\n",
    "df_raw = df_raw.withColumnRenamed('home.dest','home_dest')\n",
    "df_raw.printSchema()"
   ]
  },
  {
   "cell_type": "code",
   "execution_count": 20,
   "metadata": {},
   "outputs": [
    {
     "data": {
      "text/plain": [
       "1309"
      ]
     },
     "execution_count": 20,
     "metadata": {},
     "output_type": "execute_result"
    }
   ],
   "source": [
    "df_raw.count()"
   ]
  },
  {
   "cell_type": "code",
   "execution_count": null,
   "metadata": {},
   "outputs": [],
   "source": []
  },
  {
   "cell_type": "code",
   "execution_count": 21,
   "metadata": {},
   "outputs": [],
   "source": [
    "# Train/test split\n",
    "train_df, test_df = df_raw.randomSplit([0.7,0.3],seed=1234)"
   ]
  },
  {
   "cell_type": "code",
   "execution_count": 22,
   "metadata": {},
   "outputs": [],
   "source": [
    "#df_raw.randomSplit?"
   ]
  },
  {
   "cell_type": "code",
   "execution_count": 23,
   "metadata": {},
   "outputs": [
    {
     "data": {
      "text/plain": [
       "959"
      ]
     },
     "execution_count": 23,
     "metadata": {},
     "output_type": "execute_result"
    }
   ],
   "source": [
    "train_df.count()"
   ]
  },
  {
   "cell_type": "code",
   "execution_count": 24,
   "metadata": {},
   "outputs": [],
   "source": [
    "from pyspark.sql.functions import rand, when\n",
    "df_raw = df_raw.withColumn('train', when(rand(seed=1234) >= 0.3, True).otherwise(False))"
   ]
  },
  {
   "cell_type": "code",
   "execution_count": 25,
   "metadata": {},
   "outputs": [],
   "source": [
    "#rand?"
   ]
  },
  {
   "cell_type": "code",
   "execution_count": 26,
   "metadata": {},
   "outputs": [
    {
     "name": "stdout",
     "output_type": "stream",
     "text": [
      "+-----+-----+\n",
      "|train|count|\n",
      "+-----+-----+\n",
      "| true|  886|\n",
      "|false|  423|\n",
      "+-----+-----+\n",
      "\n"
     ]
    }
   ],
   "source": [
    "df_raw.select('train').groupby('train').count().show()"
   ]
  },
  {
   "cell_type": "code",
   "execution_count": 27,
   "metadata": {},
   "outputs": [
    {
     "name": "stdout",
     "output_type": "stream",
     "text": [
      "root\n",
      " |-- train: boolean (nullable = false)\n",
      "\n"
     ]
    }
   ],
   "source": [
    "df_raw.select('train').printSchema()"
   ]
  },
  {
   "cell_type": "code",
   "execution_count": 28,
   "metadata": {},
   "outputs": [],
   "source": [
    "import pyspark.sql.functions as f"
   ]
  },
  {
   "cell_type": "code",
   "execution_count": 29,
   "metadata": {},
   "outputs": [],
   "source": [
    "df_train = df_raw.filter(f.col('train') == True)"
   ]
  },
  {
   "cell_type": "code",
   "execution_count": 30,
   "metadata": {},
   "outputs": [
    {
     "data": {
      "text/plain": [
       "886"
      ]
     },
     "execution_count": 30,
     "metadata": {},
     "output_type": "execute_result"
    }
   ],
   "source": [
    "df_train.count()"
   ]
  },
  {
   "cell_type": "code",
   "execution_count": 31,
   "metadata": {},
   "outputs": [],
   "source": [
    "df_test = df_raw.filter(f.col('train') != True)"
   ]
  },
  {
   "cell_type": "code",
   "execution_count": 32,
   "metadata": {},
   "outputs": [
    {
     "data": {
      "text/plain": [
       "423"
      ]
     },
     "execution_count": 32,
     "metadata": {},
     "output_type": "execute_result"
    }
   ],
   "source": [
    "df_test.count()"
   ]
  },
  {
   "cell_type": "markdown",
   "metadata": {},
   "source": [
    "## Ejercicio 2: Primer preproceso / EDA"
   ]
  },
  {
   "cell_type": "code",
   "execution_count": 33,
   "metadata": {},
   "outputs": [
    {
     "name": "stdout",
     "output_type": "stream",
     "text": [
      "root\n",
      " |-- pclass: string (nullable = true)\n",
      " |-- survived: string (nullable = true)\n",
      " |-- name: string (nullable = true)\n",
      " |-- sex: string (nullable = true)\n",
      " |-- age: string (nullable = true)\n",
      " |-- sibsp: string (nullable = true)\n",
      " |-- parch: string (nullable = true)\n",
      " |-- ticket: string (nullable = true)\n",
      " |-- fare: string (nullable = true)\n",
      " |-- cabin: string (nullable = true)\n",
      " |-- embarked: string (nullable = true)\n",
      " |-- boat: string (nullable = true)\n",
      " |-- body: string (nullable = true)\n",
      " |-- home_dest: string (nullable = true)\n",
      " |-- train: boolean (nullable = false)\n",
      "\n"
     ]
    }
   ],
   "source": [
    "# Casteo de datos\n",
    "df_raw.printSchema()"
   ]
  },
  {
   "cell_type": "code",
   "execution_count": 34,
   "metadata": {},
   "outputs": [],
   "source": [
    "def cast_cols(df, cols, new_type):\n",
    "  for col in cols: \n",
    "     df = df.withColumn(col, df[col].cast(new_type()))\n",
    "  return df"
   ]
  },
  {
   "cell_type": "code",
   "execution_count": 35,
   "metadata": {},
   "outputs": [],
   "source": [
    "integer_cols = ['survived', 'sibsp', 'parch', 'body']\n",
    "float_cols = ['age', 'fare']"
   ]
  },
  {
   "cell_type": "code",
   "execution_count": 36,
   "metadata": {},
   "outputs": [],
   "source": [
    "df_raw = cast_cols(df_raw, integer_cols, IntegerType)\n",
    "df_raw = cast_cols(df_raw, float_cols, DoubleType)"
   ]
  },
  {
   "cell_type": "code",
   "execution_count": 37,
   "metadata": {},
   "outputs": [
    {
     "name": "stdout",
     "output_type": "stream",
     "text": [
      "root\n",
      " |-- pclass: string (nullable = true)\n",
      " |-- survived: integer (nullable = true)\n",
      " |-- name: string (nullable = true)\n",
      " |-- sex: string (nullable = true)\n",
      " |-- age: double (nullable = true)\n",
      " |-- sibsp: integer (nullable = true)\n",
      " |-- parch: integer (nullable = true)\n",
      " |-- ticket: string (nullable = true)\n",
      " |-- fare: double (nullable = true)\n",
      " |-- cabin: string (nullable = true)\n",
      " |-- embarked: string (nullable = true)\n",
      " |-- boat: string (nullable = true)\n",
      " |-- body: integer (nullable = true)\n",
      " |-- home_dest: string (nullable = true)\n",
      " |-- train: boolean (nullable = false)\n",
      "\n"
     ]
    }
   ],
   "source": [
    "df_raw.printSchema()"
   ]
  },
  {
   "cell_type": "code",
   "execution_count": 38,
   "metadata": {},
   "outputs": [
    {
     "data": {
      "text/plain": [
       "0.954"
      ]
     },
     "execution_count": 38,
     "metadata": {},
     "output_type": "execute_result"
    }
   ],
   "source": [
    "survived_on_boat = df_raw.filter((f.col('boat').isNotNull()) & (f.col('survived') == 1)).count()\n",
    "survived = df_raw.filter(f.col('survived') == 1).count()\n",
    "survived_on_boat / survived"
   ]
  },
  {
   "cell_type": "code",
   "execution_count": 39,
   "metadata": {},
   "outputs": [],
   "source": [
    "import logging\n",
    "logging.basicConfig(\n",
    "    level=logging.INFO,\n",
    "    format='%(asctime)s-%(name)s-%(levelname)s: %(message)s',\n",
    "    handlers=[logging.FileHandler('/dataset/titanic_spark.log'), logging.StreamHandler()],\n",
    ")\n",
    "logger = logging.getLogger(__name__)"
   ]
  },
  {
   "cell_type": "code",
   "execution_count": 40,
   "metadata": {},
   "outputs": [],
   "source": [
    "def _drop_unusable_cols(df, cols=[]):\n",
    "    logger.info(\n",
    "        f\"Dropping the following {len(cols)} unusable columns:\\n\"\n",
    "        f\"{cols}\"\n",
    "    )\n",
    "    df = df.drop(*cols)\n",
    "    logger.info(\n",
    "        f\"Remaining {len(df.columns)} columns:\\n {sorted(df.columns)}\"\n",
    "    )\n",
    "    return df"
   ]
  },
  {
   "cell_type": "code",
   "execution_count": 41,
   "metadata": {},
   "outputs": [
    {
     "name": "stderr",
     "output_type": "stream",
     "text": [
      "2019-12-11 15:41:04,059-__main__-INFO: Dropping the following 3 unusable columns:\n",
      "['boat', 'body', 'train']\n",
      "2019-12-11 15:41:04,109-__main__-INFO: Remaining 12 columns:\n",
      " ['age', 'cabin', 'embarked', 'fare', 'home_dest', 'name', 'parch', 'pclass', 'sex', 'sibsp', 'survived', 'ticket']\n"
     ]
    }
   ],
   "source": [
    "train_df = _drop_unusable_cols(train_df, cols=['boat', 'body', 'train'])"
   ]
  },
  {
   "cell_type": "code",
   "execution_count": 42,
   "metadata": {},
   "outputs": [
    {
     "data": {
      "text/plain": [
       "(['pclass',\n",
       "  'survived',\n",
       "  'name',\n",
       "  'sex',\n",
       "  'age',\n",
       "  'sibsp',\n",
       "  'parch',\n",
       "  'ticket',\n",
       "  'fare',\n",
       "  'cabin',\n",
       "  'embarked',\n",
       "  'home_dest'],\n",
       " ['pclass',\n",
       "  'survived',\n",
       "  'name',\n",
       "  'sex',\n",
       "  'age',\n",
       "  'sibsp',\n",
       "  'parch',\n",
       "  'ticket',\n",
       "  'fare',\n",
       "  'cabin',\n",
       "  'embarked',\n",
       "  'boat',\n",
       "  'body',\n",
       "  'home_dest'])"
      ]
     },
     "execution_count": 42,
     "metadata": {},
     "output_type": "execute_result"
    }
   ],
   "source": [
    "train_df.columns, test_df.columns"
   ]
  },
  {
   "cell_type": "code",
   "execution_count": 43,
   "metadata": {},
   "outputs": [
    {
     "name": "stderr",
     "output_type": "stream",
     "text": [
      "2019-12-11 15:41:04,145-__main__-INFO: Dropping the following 3 unusable columns:\n",
      "['boat', 'body', 'train']\n",
      "2019-12-11 15:41:04,168-__main__-INFO: Remaining 12 columns:\n",
      " ['age', 'cabin', 'embarked', 'fare', 'home_dest', 'name', 'parch', 'pclass', 'sex', 'sibsp', 'survived', 'ticket']\n"
     ]
    }
   ],
   "source": [
    "test_df = _drop_unusable_cols(test_df, cols=['boat', 'body', 'train'])"
   ]
  },
  {
   "cell_type": "code",
   "execution_count": 44,
   "metadata": {},
   "outputs": [],
   "source": [
    "train_df = train_df.withColumn('train_new', f.lit(True))\n",
    "test_df = test_df.withColumn('train_new', f.lit(False))"
   ]
  },
  {
   "cell_type": "code",
   "execution_count": 45,
   "metadata": {},
   "outputs": [
    {
     "data": {
      "text/plain": [
       "1309"
      ]
     },
     "execution_count": 45,
     "metadata": {},
     "output_type": "execute_result"
    }
   ],
   "source": [
    "joined_df = train_df.unionByName(test_df)\n",
    "joined_df.count()"
   ]
  },
  {
   "cell_type": "code",
   "execution_count": 46,
   "metadata": {},
   "outputs": [
    {
     "name": "stderr",
     "output_type": "stream",
     "text": [
      "2019-12-11 15:41:05,758-__main__-INFO: Dropping the following 3 unusable columns:\n",
      "['boat', 'body', 'ticket']\n",
      "2019-12-11 15:41:05,772-__main__-INFO: Remaining 12 columns:\n",
      " ['age', 'cabin', 'embarked', 'fare', 'home_dest', 'name', 'parch', 'pclass', 'sex', 'sibsp', 'survived', 'train']\n"
     ]
    }
   ],
   "source": [
    "df = _drop_unusable_cols(df_raw, cols=['boat', 'body', 'ticket'])"
   ]
  },
  {
   "cell_type": "code",
   "execution_count": 47,
   "metadata": {},
   "outputs": [],
   "source": [
    "# Plotting\n",
    "import matplotlib.pyplot as plt\n",
    "%matplotlib inline"
   ]
  },
  {
   "cell_type": "code",
   "execution_count": 48,
   "metadata": {},
   "outputs": [
    {
     "data": {
      "text/plain": [
       "<matplotlib.axes._subplots.AxesSubplot at 0x7f32e1de0860>"
      ]
     },
     "execution_count": 48,
     "metadata": {},
     "output_type": "execute_result"
    },
    {
     "data": {
      "image/png": "[encoded data removed]",
      "text/plain": [
       "<Figure size 432x288 with 1 Axes>"
      ]
     },
     "metadata": {
      "needs_background": "light"
     },
     "output_type": "display_data"
    }
   ],
   "source": [
    "df.select('survived').groupBy('survived').count().toPandas().set_index('survived').plot.bar()"
   ]
  },
  {
   "cell_type": "markdown",
   "metadata": {},
   "source": [
    "## EDA y Ejercicio 3"
   ]
  },
  {
   "cell_type": "code",
   "execution_count": 49,
   "metadata": {},
   "outputs": [],
   "source": [
    "import seaborn as sns"
   ]
  },
  {
   "cell_type": "code",
   "execution_count": 50,
   "metadata": {},
   "outputs": [
    {
     "data": {
      "image/png": "[encoded data removed]",
      "text/plain": [
       "<Figure size 432x288 with 2 Axes>"
      ]
     },
     "metadata": {
      "needs_background": "light"
     },
     "output_type": "display_data"
    }
   ],
   "source": [
    "g = sns.heatmap(df.select('survived', 'age', 'parch', 'fare', 'sibsp').toPandas().corr(),\n",
    "                annot=True, fmt = \".2f\", cmap = \"coolwarm\")"
   ]
  },
  {
   "cell_type": "code",
   "execution_count": 51,
   "metadata": {},
   "outputs": [
    {
     "data": {
      "image/png": "[encoded data removed]",
      "text/plain": [
       "<Figure size 432x216 with 2 Axes>"
      ]
     },
     "metadata": {
      "needs_background": "light"
     },
     "output_type": "display_data"
    }
   ],
   "source": [
    "g = sns.FacetGrid(df.toPandas(), col='survived')\n",
    "g = g.map(sns.distplot, 'age')"
   ]
  },
  {
   "cell_type": "code",
   "execution_count": 52,
   "metadata": {},
   "outputs": [],
   "source": [
    "survived_age = df.filter((f.col('survived') == 1) & \n",
    "                         (f.col('age').isNotNull())).select('age').toPandas()\n",
    "not_survived_age = df.filter((f.col('survived') == 0) & (f.col('age').isNotNull())).select('age').toPandas()"
   ]
  },
  {
   "cell_type": "code",
   "execution_count": 53,
   "metadata": {},
   "outputs": [
    {
     "data": {
      "text/plain": [
       "0      29.00\n",
       "1       0.92\n",
       "2      48.00\n",
       "3      63.00\n",
       "4      53.00\n",
       "       ...  \n",
       "422    63.00\n",
       "423    22.00\n",
       "424    38.00\n",
       "425    47.00\n",
       "426    15.00\n",
       "Name: age, Length: 427, dtype: float64"
      ]
     },
     "execution_count": 53,
     "metadata": {},
     "output_type": "execute_result"
    }
   ],
   "source": [
    "survived_age.squeeze()"
   ]
  },
  {
   "cell_type": "code",
   "execution_count": 54,
   "metadata": {},
   "outputs": [
    {
     "data": {
      "text/plain": [
       "pandas.core.series.Series"
      ]
     },
     "execution_count": 54,
     "metadata": {},
     "output_type": "execute_result"
    }
   ],
   "source": [
    "type(survived_age.squeeze())"
   ]
  },
  {
   "cell_type": "code",
   "execution_count": 55,
   "metadata": {},
   "outputs": [
    {
     "data": {
      "text/plain": [
       "<matplotlib.legend.Legend at 0x7f32c107a080>"
      ]
     },
     "execution_count": 55,
     "metadata": {},
     "output_type": "execute_result"
    },
    {
     "data": {
      "image/png": "[encoded data removed]",
      "text/plain": [
       "<Figure size 432x288 with 1 Axes>"
      ]
     },
     "metadata": {
      "needs_background": "light"
     },
     "output_type": "display_data"
    }
   ],
   "source": [
    "g = sns.kdeplot(not_survived_age.squeeze(), color='Red', shade=True)\n",
    "g = sns.kdeplot(survived_age.squeeze(), color='Blue', shade=True)\n",
    "g.set_xlabel('age')\n",
    "g.set_ylabel('Frequency')\n",
    "g.legend(['Not Survived', 'Survived'])"
   ]
  },
  {
   "cell_type": "code",
   "execution_count": 56,
   "metadata": {},
   "outputs": [
    {
     "data": {
      "text/plain": [
       "33.29547928134572"
      ]
     },
     "execution_count": 56,
     "metadata": {},
     "output_type": "execute_result"
    }
   ],
   "source": [
    "fare_mean = df.select(f.mean(f.col('fare'))).first()[0]\n",
    "fare_mean"
   ]
  },
  {
   "cell_type": "code",
   "execution_count": 57,
   "metadata": {},
   "outputs": [
    {
     "name": "stdout",
     "output_type": "stream",
     "text": [
      "+----+\n",
      "|fare|\n",
      "+----+\n",
      "+----+\n",
      "\n"
     ]
    }
   ],
   "source": [
    "df.select('fare').fillna(fare_mean).filter(f.col('fare').isNull()).show()"
   ]
  },
  {
   "cell_type": "code",
   "execution_count": 58,
   "metadata": {},
   "outputs": [
    {
     "data": {
      "image/png": "[encoded data removed]",
      "text/plain": [
       "<Figure size 432x288 with 1 Axes>"
      ]
     },
     "metadata": {
      "needs_background": "light"
     },
     "output_type": "display_data"
    }
   ],
   "source": [
    "# Distribución de precio de boletos \n",
    "g = sns.distplot(df.select('fare').fillna(fare_mean).toPandas(), color='m')"
   ]
  },
  {
   "cell_type": "code",
   "execution_count": 59,
   "metadata": {},
   "outputs": [
    {
     "name": "stdout",
     "output_type": "stream",
     "text": [
      "+----+\n",
      "|fare|\n",
      "+----+\n",
      "| 0.0|\n",
      "| 0.0|\n",
      "| 0.0|\n",
      "| 0.0|\n",
      "| 0.0|\n",
      "| 0.0|\n",
      "| 0.0|\n",
      "| 0.0|\n",
      "| 0.0|\n",
      "| 0.0|\n",
      "| 0.0|\n",
      "| 0.0|\n",
      "| 0.0|\n",
      "| 0.0|\n",
      "| 0.0|\n",
      "| 0.0|\n",
      "| 0.0|\n",
      "+----+\n",
      "\n"
     ]
    }
   ],
   "source": [
    "df.select('fare').filter(f.col('fare') == 0).show()"
   ]
  },
  {
   "cell_type": "code",
   "execution_count": 60,
   "metadata": {},
   "outputs": [],
   "source": [
    "import numpy as np"
   ]
  },
  {
   "cell_type": "code",
   "execution_count": 61,
   "metadata": {},
   "outputs": [
    {
     "ename": "RuntimeError",
     "evalue": "No active exception to reraise",
     "output_type": "error",
     "traceback": [
      "\u001b[0;31m---------------------------------------------------------------------------\u001b[0m",
      "\u001b[0;31mRuntimeError\u001b[0m                              Traceback (most recent call last)",
      "\u001b[0;32m<ipython-input-61-9c9a2cba73bf>\u001b[0m in \u001b[0;36m<module>\u001b[0;34m\u001b[0m\n\u001b[0;32m----> 1\u001b[0;31m \u001b[0;32mraise\u001b[0m\u001b[0;34m\u001b[0m\u001b[0;34m\u001b[0m\u001b[0m\n\u001b[0m",
      "\u001b[0;31mRuntimeError\u001b[0m: No active exception to reraise"
     ]
    }
   ],
   "source": [
    "raise"
   ]
  },
  {
   "cell_type": "code",
   "execution_count": 72,
   "metadata": {},
   "outputs": [],
   "source": [
    "@f.udf('double')\n",
    "def np_log(x):\n",
    "    if x is None:\n",
    "        return 0\n",
    "    return float(np.log(x + 1)) "
   ]
  },
  {
   "cell_type": "code",
   "execution_count": 73,
   "metadata": {},
   "outputs": [
    {
     "name": "stdout",
     "output_type": "stream",
     "text": [
      "+--------+------------------+\n",
      "|    fare|          log_fare|\n",
      "+--------+------------------+\n",
      "|211.3375|  5.35817698994543|\n",
      "|  151.55| 5.027492411162679|\n",
      "|  151.55| 5.027492411162679|\n",
      "|  151.55| 5.027492411162679|\n",
      "|  151.55| 5.027492411162679|\n",
      "|   26.55|3.3160025355989236|\n",
      "| 77.9583| 4.368919865004903|\n",
      "|     0.0|               0.0|\n",
      "| 51.4792| 3.960416900617205|\n",
      "| 49.5042| 3.922056501139853|\n",
      "| 227.525|5.4316456135398825|\n",
      "| 227.525|5.4316456135398825|\n",
      "|    69.3| 4.252771798816619|\n",
      "|   78.85| 4.380149874661021|\n",
      "|    30.0|3.4339872044851463|\n",
      "|  25.925|3.2930552230424524|\n",
      "|247.5208| 5.515526544247129|\n",
      "|247.5208| 5.515526544247129|\n",
      "| 76.2917| 4.347586575960343|\n",
      "| 75.2417| 4.333908557103646|\n",
      "+--------+------------------+\n",
      "only showing top 20 rows\n",
      "\n"
     ]
    }
   ],
   "source": [
    "df = df.withColumn('log_fare', np_log(df.fare))\n",
    "df.select('fare', 'log_fare').show()"
   ]
  },
  {
   "cell_type": "code",
   "execution_count": 75,
   "metadata": {},
   "outputs": [],
   "source": [
    "df = df.drop('fare')"
   ]
  },
  {
   "cell_type": "code",
   "execution_count": 76,
   "metadata": {},
   "outputs": [
    {
     "name": "stdout",
     "output_type": "stream",
     "text": [
      "+----+-----+\n",
      "| age|count|\n",
      "+----+-----+\n",
      "|70.0|    2|\n",
      "|67.0|    1|\n",
      "| 8.0|    6|\n",
      "| 7.0|    4|\n",
      "|11.5|    1|\n",
      "|38.5|    1|\n",
      "|20.5|    1|\n",
      "|49.0|    9|\n",
      "|29.0|   30|\n",
      "|40.5|    3|\n",
      "|64.0|    5|\n",
      "|47.0|   14|\n",
      "|42.0|   18|\n",
      "|24.5|    1|\n",
      "|44.0|   10|\n",
      "|null|  263|\n",
      "|35.0|   23|\n",
      "|62.0|    5|\n",
      "|18.0|   39|\n",
      "|80.0|    1|\n",
      "+----+-----+\n",
      "only showing top 20 rows\n",
      "\n"
     ]
    }
   ],
   "source": [
    "df.select('age').groupBy('age').count().show()"
   ]
  },
  {
   "cell_type": "code",
   "execution_count": 79,
   "metadata": {},
   "outputs": [
    {
     "data": {
      "image/png": "[encoded data removed]",
      "text/plain": [
       "<Figure size 432x288 with 1 Axes>"
      ]
     },
     "metadata": {
      "needs_background": "light"
     },
     "output_type": "display_data"
    }
   ],
   "source": [
    "g = sns.distplot(df.select('log_fare').fillna(np.log(fare_mean)).toPandas(), color='m')"
   ]
  },
  {
   "cell_type": "code",
   "execution_count": 80,
   "metadata": {},
   "outputs": [
    {
     "data": {
      "image/png": "[encoded data removed]",
      "text/plain": [
       "<Figure size 432x288 with 1 Axes>"
      ]
     },
     "metadata": {
      "needs_background": "light"
     },
     "output_type": "display_data"
    }
   ],
   "source": [
    "g = sns.barplot(x='sex', y='survived', data=df.toPandas())\n",
    "g = g.set_ylabel(\"Survival Probability\")"
   ]
  },
  {
   "cell_type": "code",
   "execution_count": 81,
   "metadata": {},
   "outputs": [
    {
     "name": "stdout",
     "output_type": "stream",
     "text": [
      "+------+-------------------+\n",
      "|   sex|      avg(survived)|\n",
      "+------+-------------------+\n",
      "|female| 0.7274678111587983|\n",
      "|  male|0.19098457888493475|\n",
      "+------+-------------------+\n",
      "\n"
     ]
    }
   ],
   "source": [
    "df.select('sex', 'survived').groupby('sex').mean().show()"
   ]
  },
  {
   "cell_type": "code",
   "execution_count": 82,
   "metadata": {},
   "outputs": [
    {
     "data": {
      "image/png": "[encoded data removed]",
      "text/plain": [
       "<Figure size 502.5x432 with 1 Axes>"
      ]
     },
     "metadata": {
      "needs_background": "light"
     },
     "output_type": "display_data"
    }
   ],
   "source": [
    "g = sns.catplot(x='pclass', y='survived', hue='sex', data=df.toPandas(),\n",
    "                   height=6, kind='bar')\n",
    "g = g.set_ylabels(\"survival probability\")"
   ]
  },
  {
   "cell_type": "markdown",
   "metadata": {},
   "source": [
    "## Ejercicio 4: Valores nulos y constantes"
   ]
  },
  {
   "cell_type": "code",
   "execution_count": 83,
   "metadata": {},
   "outputs": [
    {
     "data": {
      "text/plain": [
       "pyspark.sql.dataframe.DataFrame"
      ]
     },
     "execution_count": 83,
     "metadata": {},
     "output_type": "execute_result"
    }
   ],
   "source": [
    "type(df)"
   ]
  },
  {
   "cell_type": "code",
   "execution_count": 84,
   "metadata": {},
   "outputs": [
    {
     "name": "stdout",
     "output_type": "stream",
     "text": [
      "+----+-----+\n",
      "| age|count|\n",
      "+----+-----+\n",
      "|70.0|    2|\n",
      "|67.0|    1|\n",
      "| 8.0|    6|\n",
      "| 7.0|    4|\n",
      "|11.5|    1|\n",
      "|38.5|    1|\n",
      "|20.5|    1|\n",
      "|49.0|    9|\n",
      "|29.0|   30|\n",
      "|40.5|    3|\n",
      "|64.0|    5|\n",
      "|47.0|   14|\n",
      "|42.0|   18|\n",
      "|24.5|    1|\n",
      "|44.0|   10|\n",
      "|null|  263|\n",
      "|35.0|   23|\n",
      "|62.0|    5|\n",
      "|18.0|   39|\n",
      "|80.0|    1|\n",
      "+----+-----+\n",
      "only showing top 20 rows\n",
      "\n"
     ]
    }
   ],
   "source": [
    "df.select('age').groupBy('age').count().show()"
   ]
  },
  {
   "cell_type": "code",
   "execution_count": 85,
   "metadata": {},
   "outputs": [
    {
     "name": "stdout",
     "output_type": "stream",
     "text": [
      "+-------------------------------+\n",
      "|sum(CAST((age IS NULL) AS INT))|\n",
      "+-------------------------------+\n",
      "|                            263|\n",
      "+-------------------------------+\n",
      "\n"
     ]
    }
   ],
   "source": [
    "df.select(f.sum(f.col('age').isNull().cast('integer'))).show()"
   ]
  },
  {
   "cell_type": "code",
   "execution_count": 86,
   "metadata": {},
   "outputs": [],
   "source": [
    "df_nulls = df.select([f.sum(f.col(c).isNull().cast('integer') / df.count()).alias(c) for c in df.columns])"
   ]
  },
  {
   "cell_type": "code",
   "execution_count": 87,
   "metadata": {},
   "outputs": [
    {
     "name": "stdout",
     "output_type": "stream",
     "text": [
      "+------+--------+----+---+-------------------+-----+-----+------------------+--------------------+------------------+-----+--------------------+\n",
      "|pclass|survived|name|sex|                age|sibsp|parch|             cabin|            embarked|         home_dest|train|            log_fare|\n",
      "+------+--------+----+---+-------------------+-----+-----+------------------+--------------------+------------------+-----+--------------------+\n",
      "|   0.0|     0.0| 0.0|0.0|0.20091673032849391|  0.0|  0.0|0.7746371275782934|0.001527883880825...|0.4308632543926612|  0.0|7.639419404125286E-4|\n",
      "+------+--------+----+---+-------------------+-----+-----+------------------+--------------------+------------------+-----+--------------------+\n",
      "\n"
     ]
    }
   ],
   "source": [
    "df_nulls.show()"
   ]
  },
  {
   "cell_type": "code",
   "execution_count": 88,
   "metadata": {},
   "outputs": [
    {
     "data": {
      "text/plain": [
       "['cabin']"
      ]
     },
     "execution_count": 88,
     "metadata": {},
     "output_type": "execute_result"
    }
   ],
   "source": [
    "null_cols = [c for c in df_nulls.columns if df_nulls.select(c).first()[0] >= 0.5]\n",
    "null_cols"
   ]
  },
  {
   "cell_type": "code",
   "execution_count": 89,
   "metadata": {},
   "outputs": [],
   "source": [
    "def _drop_nulls(df, max_null_prop=0.5):\n",
    "    logger.info(\n",
    "        f\"Dropping columns with null ratio greater than {max_null_prop * 100}%...\"\n",
    "    )\n",
    "    df_nulls = df.select([f.sum(f.col(c).isNull().cast('integer') / df.count()).alias(c) \n",
    "                          for c in df.columns])\n",
    "    logger.info(f\"Null proportions:\\n {df_nulls.show()}\")\n",
    "    null_cols = [c for c in df_nulls.columns if df_nulls.select(c).first()[0] > max_null_prop \n",
    "                 and c not in PROTECTED_COLS]\n",
    "    logger.info(f\"Dropping the following {len(null_cols)} columns:\\n {null_cols}\")\n",
    "    df = df.drop(*null_cols)\n",
    "    return df"
   ]
  },
  {
   "cell_type": "code",
   "execution_count": 90,
   "metadata": {},
   "outputs": [
    {
     "name": "stderr",
     "output_type": "stream",
     "text": [
      "2019-12-11 15:50:45,304-__main__-INFO: Dropping columns with null ratio greater than 50.0%...\n",
      "2019-12-11 15:50:48,453-__main__-INFO: Null proportions:\n",
      " None\n"
     ]
    },
    {
     "name": "stdout",
     "output_type": "stream",
     "text": [
      "+------+--------+----+---+-------------------+-----+-----+------------------+--------------------+------------------+-----+--------------------+\n",
      "|pclass|survived|name|sex|                age|sibsp|parch|             cabin|            embarked|         home_dest|train|            log_fare|\n",
      "+------+--------+----+---+-------------------+-----+-----+------------------+--------------------+------------------+-----+--------------------+\n",
      "|   0.0|     0.0| 0.0|0.0|0.20091673032849391|  0.0|  0.0|0.7746371275782934|0.001527883880825...|0.4308632543926612|  0.0|7.639419404125286E-4|\n",
      "+------+--------+----+---+-------------------+-----+-----+------------------+--------------------+------------------+-----+--------------------+\n",
      "\n"
     ]
    },
    {
     "name": "stderr",
     "output_type": "stream",
     "text": [
      "2019-12-11 15:50:51,379-__main__-INFO: Dropping the following 1 columns:\n",
      " ['cabin']\n"
     ]
    }
   ],
   "source": [
    "PROTECTED_COLS = ['survived', 'train']\n",
    "df = _drop_nulls(df)"
   ]
  },
  {
   "cell_type": "code",
   "execution_count": 91,
   "metadata": {},
   "outputs": [
    {
     "data": {
      "text/plain": [
       "pclass       0.000000\n",
       "survived     0.000000\n",
       "name         0.000000\n",
       "sex          0.000000\n",
       "age          0.200917\n",
       "sibsp        0.000000\n",
       "parch        0.000000\n",
       "embarked     0.001528\n",
       "home_dest    0.430863\n",
       "train        0.000000\n",
       "log_fare     0.000764\n",
       "dtype: float64"
      ]
     },
     "execution_count": 91,
     "metadata": {},
     "output_type": "execute_result"
    }
   ],
   "source": [
    "df.toPandas().isnull().mean()"
   ]
  },
  {
   "cell_type": "code",
   "execution_count": 92,
   "metadata": {},
   "outputs": [
    {
     "name": "stdout",
     "output_type": "stream",
     "text": [
      "<class 'pandas.core.frame.DataFrame'>\n",
      "RangeIndex: 1309 entries, 0 to 1308\n",
      "Data columns (total 11 columns):\n",
      "pclass       1309 non-null object\n",
      "survived     1309 non-null int32\n",
      "name         1309 non-null object\n",
      "sex          1309 non-null object\n",
      "age          1046 non-null float64\n",
      "sibsp        1309 non-null int32\n",
      "parch        1309 non-null int32\n",
      "embarked     1307 non-null object\n",
      "home_dest    745 non-null object\n",
      "train        1309 non-null bool\n",
      "log_fare     1308 non-null float64\n",
      "dtypes: bool(1), float64(2), int32(3), object(5)\n",
      "memory usage: 88.3+ KB\n"
     ]
    }
   ],
   "source": [
    "df.toPandas().info()"
   ]
  },
  {
   "cell_type": "code",
   "execution_count": 93,
   "metadata": {},
   "outputs": [
    {
     "name": "stdout",
     "output_type": "stream",
     "text": [
      "root\n",
      " |-- pclass: string (nullable = true)\n",
      " |-- survived: integer (nullable = true)\n",
      " |-- name: string (nullable = true)\n",
      " |-- sex: string (nullable = true)\n",
      " |-- age: double (nullable = true)\n",
      " |-- sibsp: integer (nullable = true)\n",
      " |-- parch: integer (nullable = true)\n",
      " |-- embarked: string (nullable = true)\n",
      " |-- home_dest: string (nullable = true)\n",
      " |-- train: boolean (nullable = false)\n",
      " |-- log_fare: double (nullable = true)\n",
      "\n"
     ]
    }
   ],
   "source": [
    "df.printSchema()"
   ]
  },
  {
   "cell_type": "code",
   "execution_count": 94,
   "metadata": {},
   "outputs": [
    {
     "data": {
      "text/plain": [
       "survived     0.486055\n",
       "age         14.413493\n",
       "sibsp        1.041658\n",
       "parch        0.865560\n",
       "train        0.467857\n",
       "log_fare     0.968668\n",
       "dtype: float64"
      ]
     },
     "execution_count": 94,
     "metadata": {},
     "output_type": "execute_result"
    }
   ],
   "source": [
    "df.toPandas().std()"
   ]
  },
  {
   "cell_type": "code",
   "execution_count": 95,
   "metadata": {},
   "outputs": [
    {
     "data": {
      "text/plain": [
       "[('pclass', 'string'),\n",
       " ('survived', 'int'),\n",
       " ('name', 'string'),\n",
       " ('sex', 'string'),\n",
       " ('age', 'double'),\n",
       " ('sibsp', 'int'),\n",
       " ('parch', 'int'),\n",
       " ('embarked', 'string'),\n",
       " ('home_dest', 'string'),\n",
       " ('train', 'boolean'),\n",
       " ('log_fare', 'double')]"
      ]
     },
     "execution_count": 95,
     "metadata": {},
     "output_type": "execute_result"
    }
   ],
   "source": [
    "df.dtypes"
   ]
  },
  {
   "cell_type": "code",
   "execution_count": 96,
   "metadata": {},
   "outputs": [
    {
     "data": {
      "text/plain": [
       "['survived', 'age', 'sibsp', 'parch', 'log_fare']"
      ]
     },
     "execution_count": 96,
     "metadata": {},
     "output_type": "execute_result"
    }
   ],
   "source": [
    "num_cols = [c for c,dtype in df.dtypes if dtype.startswith(('int', 'double'))]\n",
    "num_cols"
   ]
  },
  {
   "cell_type": "code",
   "execution_count": 97,
   "metadata": {},
   "outputs": [
    {
     "name": "stdout",
     "output_type": "stream",
     "text": [
      "+-------------------+-----------------+------------------+------------------+------------------+\n",
      "|           survived|              age|             sibsp|             parch|          log_fare|\n",
      "+-------------------+-----------------+------------------+------------------+------------------+\n",
      "|0.48605517086648325|14.41349321127133|1.0416583905961012|0.8655602753495143|0.9686684201071445|\n",
      "+-------------------+-----------------+------------------+------------------+------------------+\n",
      "\n"
     ]
    }
   ],
   "source": [
    "df_std = df.select([f.stddev(f.col(c)).alias(c) for c in num_cols])\n",
    "df_std.show()"
   ]
  },
  {
   "cell_type": "code",
   "execution_count": 98,
   "metadata": {},
   "outputs": [],
   "source": [
    "def _drop_std(df, min_std_dev=1.5e-2):\n",
    "    num_cols = [c for c,dtype in df.dtypes if dtype.startswith(('int', 'double'))]\n",
    "    df_std = df.select([f.stddev(f.col(c)).alias(c) for c in num_cols])\n",
    "    low_variance_cols = [c for c in df_std.columns if df_std.select(c).first()[0] < min_std_dev \n",
    "                         and c not in PROTECTED_COLS]\n",
    "    logger.info(\n",
    "        f'Dropping the following {len(low_variance_cols)} columns '\n",
    "        f'due to low variance:\\n {low_variance_cols}'\n",
    "    )\n",
    "    df.drop(*low_variance_cols)\n",
    "    return df"
   ]
  },
  {
   "cell_type": "code",
   "execution_count": 99,
   "metadata": {},
   "outputs": [
    {
     "name": "stderr",
     "output_type": "stream",
     "text": [
      "2019-12-11 15:50:59,010-__main__-INFO: Dropping the following 0 columns due to low variance:\n",
      " []\n"
     ]
    }
   ],
   "source": [
    "df = _drop_std(df)"
   ]
  },
  {
   "cell_type": "code",
   "execution_count": 100,
   "metadata": {},
   "outputs": [],
   "source": [
    "def _get_typed_cols(df, col_type='cat'):\n",
    "    assert col_type in ('cat', 'num')\n",
    "    dtypes = ('int', 'double') if col_type == 'num' else ('string')\n",
    "    typed_cols = [c for c,dtype in df.dtypes if dtype.startswith(dtypes) \n",
    "                  and c not in PROTECTED_COLS]\n",
    "    return typed_cols"
   ]
  },
  {
   "cell_type": "code",
   "execution_count": 101,
   "metadata": {},
   "outputs": [],
   "source": [
    "# _get_typed_cols(df, col_type='foo')"
   ]
  },
  {
   "cell_type": "code",
   "execution_count": 102,
   "metadata": {},
   "outputs": [
    {
     "data": {
      "text/plain": [
       "(['age', 'sibsp', 'parch', 'log_fare'],\n",
       " ['pclass', 'name', 'sex', 'embarked', 'home_dest'])"
      ]
     },
     "execution_count": 102,
     "metadata": {},
     "output_type": "execute_result"
    }
   ],
   "source": [
    "num_cols = _get_typed_cols(df, col_type='num')\n",
    "cat_cols = _get_typed_cols(df, col_type='cat')\n",
    "num_cols, cat_cols"
   ]
  },
  {
   "cell_type": "code",
   "execution_count": 103,
   "metadata": {},
   "outputs": [
    {
     "name": "stdout",
     "output_type": "stream",
     "text": [
      "+--------+-----+\n",
      "|embarked|count|\n",
      "+--------+-----+\n",
      "|       S|  914|\n",
      "|       C|  270|\n",
      "|       Q|  123|\n",
      "+--------+-----+\n",
      "\n"
     ]
    }
   ],
   "source": [
    "val_counts = df.filter(f.col('embarked').isNotNull()).select('embarked').groupBy('embarked').count().orderBy(f.desc('count'))\n",
    "val_counts.show()"
   ]
  },
  {
   "cell_type": "code",
   "execution_count": 104,
   "metadata": {},
   "outputs": [
    {
     "data": {
      "text/plain": [
       "'S'"
      ]
     },
     "execution_count": 104,
     "metadata": {},
     "output_type": "execute_result"
    }
   ],
   "source": [
    "val_counts.select('embarked').first()[0]"
   ]
  },
  {
   "cell_type": "code",
   "execution_count": 105,
   "metadata": {},
   "outputs": [
    {
     "data": {
      "text/plain": [
       "28.0"
      ]
     },
     "execution_count": 105,
     "metadata": {},
     "output_type": "execute_result"
    }
   ],
   "source": [
    "df.toPandas()['age'].median()"
   ]
  },
  {
   "cell_type": "code",
   "execution_count": 106,
   "metadata": {},
   "outputs": [],
   "source": [
    "# df.approxQuantile?"
   ]
  },
  {
   "cell_type": "code",
   "execution_count": 107,
   "metadata": {},
   "outputs": [
    {
     "data": {
      "text/plain": [
       "28.0"
      ]
     },
     "execution_count": 107,
     "metadata": {},
     "output_type": "execute_result"
    }
   ],
   "source": [
    "df.approxQuantile('age', [0.5], 0)[0]"
   ]
  },
  {
   "cell_type": "code",
   "execution_count": 108,
   "metadata": {},
   "outputs": [],
   "source": [
    "def _fill_nulls(df):\n",
    "    for t in ['num', 'cat']:\n",
    "        cols = _get_typed_cols(df, col_type=t)\n",
    "        for c in cols:\n",
    "            if t == 'num':\n",
    "                median_val = df.approxQuantile(c, [0.5], 0)[0]\n",
    "                df = df.fillna(median_val, subset=[c])\n",
    "            else:\n",
    "                val_counts = df.filter(f.col(c).isNotNull()).select(c).groupBy(c).count().orderBy(f.desc('count'))\n",
    "                common_val = val_counts.select(c).first()[0]\n",
    "                df = df.fillna(common_val, subset=[c])\n",
    "    return df"
   ]
  },
  {
   "cell_type": "code",
   "execution_count": 109,
   "metadata": {},
   "outputs": [
    {
     "name": "stdout",
     "output_type": "stream",
     "text": [
      "<class 'pandas.core.frame.DataFrame'>\n",
      "RangeIndex: 1309 entries, 0 to 1308\n",
      "Data columns (total 11 columns):\n",
      "pclass       1309 non-null object\n",
      "survived     1309 non-null int32\n",
      "name         1309 non-null object\n",
      "sex          1309 non-null object\n",
      "age          1046 non-null float64\n",
      "sibsp        1309 non-null int32\n",
      "parch        1309 non-null int32\n",
      "embarked     1307 non-null object\n",
      "home_dest    745 non-null object\n",
      "train        1309 non-null bool\n",
      "log_fare     1308 non-null float64\n",
      "dtypes: bool(1), float64(2), int32(3), object(5)\n",
      "memory usage: 88.3+ KB\n"
     ]
    }
   ],
   "source": [
    "df.toPandas().info()"
   ]
  },
  {
   "cell_type": "code",
   "execution_count": 110,
   "metadata": {},
   "outputs": [
    {
     "name": "stdout",
     "output_type": "stream",
     "text": [
      "+--------+-----+\n",
      "|embarked|count|\n",
      "+--------+-----+\n",
      "|       S|  914|\n",
      "|       C|  270|\n",
      "|       Q|  123|\n",
      "|    null|    2|\n",
      "+--------+-----+\n",
      "\n"
     ]
    }
   ],
   "source": [
    "df.select('embarked').groupBy('embarked').count().orderBy(f.desc('count')).show()"
   ]
  },
  {
   "cell_type": "code",
   "execution_count": 111,
   "metadata": {},
   "outputs": [],
   "source": [
    "df = _fill_nulls(df)"
   ]
  },
  {
   "cell_type": "code",
   "execution_count": 112,
   "metadata": {},
   "outputs": [
    {
     "name": "stdout",
     "output_type": "stream",
     "text": [
      "<class 'pandas.core.frame.DataFrame'>\n",
      "RangeIndex: 1309 entries, 0 to 1308\n",
      "Data columns (total 11 columns):\n",
      "pclass       1309 non-null object\n",
      "survived     1309 non-null int32\n",
      "name         1309 non-null object\n",
      "sex          1309 non-null object\n",
      "age          1309 non-null float64\n",
      "sibsp        1309 non-null int32\n",
      "parch        1309 non-null int32\n",
      "embarked     1309 non-null object\n",
      "home_dest    1309 non-null object\n",
      "train        1309 non-null bool\n",
      "log_fare     1309 non-null float64\n",
      "dtypes: bool(1), float64(2), int32(3), object(5)\n",
      "memory usage: 88.3+ KB\n"
     ]
    }
   ],
   "source": [
    "df.toPandas().info()"
   ]
  },
  {
   "cell_type": "code",
   "execution_count": 113,
   "metadata": {},
   "outputs": [
    {
     "name": "stdout",
     "output_type": "stream",
     "text": [
      "+--------+-----+\n",
      "|embarked|count|\n",
      "+--------+-----+\n",
      "|       S|  916|\n",
      "|       C|  270|\n",
      "|       Q|  123|\n",
      "+--------+-----+\n",
      "\n"
     ]
    }
   ],
   "source": [
    "df.select('embarked').groupBy('embarked').count().orderBy(f.desc('count')).show()"
   ]
  },
  {
   "cell_type": "code",
   "execution_count": 114,
   "metadata": {},
   "outputs": [
    {
     "name": "stdout",
     "output_type": "stream",
     "text": [
      "+----+-----+\n",
      "| age|count|\n",
      "+----+-----+\n",
      "|28.0|  295|\n",
      "|24.0|   47|\n",
      "|22.0|   43|\n",
      "|21.0|   41|\n",
      "|30.0|   40|\n",
      "|18.0|   39|\n",
      "|25.0|   34|\n",
      "|36.0|   31|\n",
      "|27.0|   30|\n",
      "|29.0|   30|\n",
      "|26.0|   30|\n",
      "|19.0|   29|\n",
      "|23.0|   26|\n",
      "|32.0|   24|\n",
      "|20.0|   23|\n",
      "|35.0|   23|\n",
      "|31.0|   23|\n",
      "|33.0|   21|\n",
      "|45.0|   21|\n",
      "|39.0|   20|\n",
      "+----+-----+\n",
      "only showing top 20 rows\n",
      "\n"
     ]
    }
   ],
   "source": [
    "df.select('age').groupBy('age').count().orderBy(f.desc('count')).show()"
   ]
  },
  {
   "cell_type": "markdown",
   "metadata": {},
   "source": [
    "## Ejercicio 5: Ingenieria de Atributos"
   ]
  },
  {
   "cell_type": "code",
   "execution_count": 115,
   "metadata": {},
   "outputs": [
    {
     "name": "stdout",
     "output_type": "stream",
     "text": [
      "+--------------------+\n",
      "|                name|\n",
      "+--------------------+\n",
      "|Allen, Miss. Elis...|\n",
      "|Allison, Master. ...|\n",
      "|Allison, Miss. He...|\n",
      "|Allison, Mr. Huds...|\n",
      "|Allison, Mrs. Hud...|\n",
      "| Anderson, Mr. Harry|\n",
      "|Andrews, Miss. Ko...|\n",
      "|Andrews, Mr. Thom...|\n",
      "|Appleton, Mrs. Ed...|\n",
      "|Artagaveytia, Mr....|\n",
      "+--------------------+\n",
      "only showing top 10 rows\n",
      "\n"
     ]
    }
   ],
   "source": [
    "df.select('name').show(10)"
   ]
  },
  {
   "cell_type": "code",
   "execution_count": 116,
   "metadata": {},
   "outputs": [
    {
     "name": "stdout",
     "output_type": "stream",
     "text": [
      "+------+\n",
      "| title|\n",
      "+------+\n",
      "|  Miss|\n",
      "|Master|\n",
      "|  Miss|\n",
      "|    Mr|\n",
      "|   Mrs|\n",
      "+------+\n",
      "only showing top 5 rows\n",
      "\n"
     ]
    }
   ],
   "source": [
    "df.select(f.trim(f.split(f.split(f.col('name'), ', ')[1], '. ')[0]).alias('title')).show(5)"
   ]
  },
  {
   "cell_type": "code",
   "execution_count": 117,
   "metadata": {},
   "outputs": [],
   "source": [
    "df = df.withColumn('title', f.trim(f.split(f.split(df['name'], ', ')[1], '. ')[0]))"
   ]
  },
  {
   "cell_type": "code",
   "execution_count": 118,
   "metadata": {},
   "outputs": [
    {
     "name": "stdout",
     "output_type": "stream",
     "text": [
      "+------+\n",
      "| title|\n",
      "+------+\n",
      "|  Miss|\n",
      "|Master|\n",
      "|  Miss|\n",
      "|    Mr|\n",
      "|   Mrs|\n",
      "|    Mr|\n",
      "|  Miss|\n",
      "|    Mr|\n",
      "|   Mrs|\n",
      "|    Mr|\n",
      "|   Col|\n",
      "|   Mrs|\n",
      "|   Mme|\n",
      "|  Miss|\n",
      "|    Mr|\n",
      "|    Mr|\n",
      "|    Mr|\n",
      "|   Mrs|\n",
      "|  Miss|\n",
      "|    Mr|\n",
      "+------+\n",
      "only showing top 20 rows\n",
      "\n"
     ]
    }
   ],
   "source": [
    "df.select('title').show()"
   ]
  },
  {
   "cell_type": "code",
   "execution_count": 119,
   "metadata": {},
   "outputs": [
    {
     "name": "stdout",
     "output_type": "stream",
     "text": [
      "+------+-----+\n",
      "| title|count|\n",
      "+------+-----+\n",
      "|    Mr|  757|\n",
      "|  Miss|  260|\n",
      "|   Mrs|  197|\n",
      "|Master|   61|\n",
      "|   Rev|    8|\n",
      "+------+-----+\n",
      "only showing top 5 rows\n",
      "\n"
     ]
    }
   ],
   "source": [
    "title_valcounts = df.select('title').groupBy('title').count().orderBy(f.desc('count'))\n",
    "title_valcounts.show(5)"
   ]
  },
  {
   "cell_type": "code",
   "execution_count": 120,
   "metadata": {},
   "outputs": [
    {
     "data": {
      "text/plain": [
       "['Rev',\n",
       " 'Dr',\n",
       " 'Col',\n",
       " 'Mlle',\n",
       " 'Major',\n",
       " 'Ms',\n",
       " 'Dona',\n",
       " 'Don',\n",
       " 'Lady',\n",
       " 'Mme',\n",
       " 'Capt',\n",
       " 'th',\n",
       " 'Sir',\n",
       " 'Jonkheer']"
      ]
     },
     "execution_count": 120,
     "metadata": {},
     "output_type": "execute_result"
    }
   ],
   "source": [
    "other_titles = [str(i.title) for i in title_valcounts.select('title').collect()][4:]\n",
    "other_titles"
   ]
  },
  {
   "cell_type": "code",
   "execution_count": 121,
   "metadata": {},
   "outputs": [],
   "source": [
    "df = df.withColumn('title', when(df['title'].isin(*other_titles), 'other').otherwise(df['title']))"
   ]
  },
  {
   "cell_type": "code",
   "execution_count": 122,
   "metadata": {},
   "outputs": [
    {
     "name": "stdout",
     "output_type": "stream",
     "text": [
      "+------+-----+\n",
      "| title|count|\n",
      "+------+-----+\n",
      "|  Miss|  260|\n",
      "| other|   34|\n",
      "|Master|   61|\n",
      "|    Mr|  757|\n",
      "|   Mrs|  197|\n",
      "+------+-----+\n",
      "\n"
     ]
    }
   ],
   "source": [
    "df.select('title').groupBy('title').count().show()"
   ]
  },
  {
   "cell_type": "code",
   "execution_count": 123,
   "metadata": {},
   "outputs": [],
   "source": [
    "df = df.withColumn('title', when(df['title'] == 'Miss', 'Mrs').otherwise(df['title']))"
   ]
  },
  {
   "cell_type": "code",
   "execution_count": 124,
   "metadata": {},
   "outputs": [
    {
     "name": "stdout",
     "output_type": "stream",
     "text": [
      "+------+-----+\n",
      "| title|count|\n",
      "+------+-----+\n",
      "| other|   34|\n",
      "|Master|   61|\n",
      "|    Mr|  757|\n",
      "|   Mrs|  457|\n",
      "+------+-----+\n",
      "\n"
     ]
    }
   ],
   "source": [
    "df.select('title').groupBy('title').count().show()"
   ]
  },
  {
   "cell_type": "code",
   "execution_count": 125,
   "metadata": {},
   "outputs": [],
   "source": [
    "df = df.drop('name')"
   ]
  },
  {
   "cell_type": "code",
   "execution_count": 126,
   "metadata": {},
   "outputs": [
    {
     "data": {
      "image/png": "[encoded data removed]",
      "text/plain": [
       "<Figure size 432x288 with 1 Axes>"
      ]
     },
     "metadata": {
      "needs_background": "light"
     },
     "output_type": "display_data"
    }
   ],
   "source": [
    "g = sns.countplot(df.select('title').toPandas().squeeze())"
   ]
  },
  {
   "cell_type": "code",
   "execution_count": 127,
   "metadata": {},
   "outputs": [
    {
     "data": {
      "image/png": "[encoded data removed]",
      "text/plain": [
       "<Figure size 360x360 with 1 Axes>"
      ]
     },
     "metadata": {
      "needs_background": "light"
     },
     "output_type": "display_data"
    }
   ],
   "source": [
    "g = sns.catplot(x='title',y='survived',data=df.toPandas(),kind=\"bar\")"
   ]
  },
  {
   "cell_type": "code",
   "execution_count": 128,
   "metadata": {},
   "outputs": [
    {
     "name": "stdout",
     "output_type": "stream",
     "text": [
      "root\n",
      " |-- pclass: string (nullable = false)\n",
      " |-- survived: integer (nullable = true)\n",
      " |-- sex: string (nullable = false)\n",
      " |-- age: double (nullable = false)\n",
      " |-- sibsp: integer (nullable = true)\n",
      " |-- parch: integer (nullable = true)\n",
      " |-- embarked: string (nullable = false)\n",
      " |-- home_dest: string (nullable = false)\n",
      " |-- train: boolean (nullable = false)\n",
      " |-- log_fare: double (nullable = false)\n",
      " |-- title: string (nullable = true)\n",
      "\n"
     ]
    }
   ],
   "source": [
    "df.printSchema()"
   ]
  },
  {
   "cell_type": "code",
   "execution_count": 129,
   "metadata": {},
   "outputs": [
    {
     "name": "stdout",
     "output_type": "stream",
     "text": [
      "+-----+-----+-----------+\n",
      "|parch|sibsp|family_size|\n",
      "+-----+-----+-----------+\n",
      "|    0|    0|          1|\n",
      "|    2|    1|          4|\n",
      "|    2|    1|          4|\n",
      "|    2|    1|          4|\n",
      "|    2|    1|          4|\n",
      "|    0|    0|          1|\n",
      "|    0|    1|          2|\n",
      "|    0|    0|          1|\n",
      "|    0|    2|          3|\n",
      "|    0|    0|          1|\n",
      "+-----+-----+-----------+\n",
      "only showing top 10 rows\n",
      "\n"
     ]
    }
   ],
   "source": [
    "# Tamaño de familia\n",
    "df = df.withColumn('family_size', df['parch'] + df['sibsp'] + 1)\n",
    "df.select('parch', 'sibsp', 'family_size').show(10)"
   ]
  },
  {
   "cell_type": "code",
   "execution_count": 130,
   "metadata": {},
   "outputs": [
    {
     "name": "stdout",
     "output_type": "stream",
     "text": [
      "+-----------+-------------+------------+------------+\n",
      "|family_size|family_single|family_small|family_large|\n",
      "+-----------+-------------+------------+------------+\n",
      "|          1|            1|           0|           0|\n",
      "|          4|            0|           1|           0|\n",
      "|          4|            0|           1|           0|\n",
      "|          4|            0|           1|           0|\n",
      "|          4|            0|           1|           0|\n",
      "|          1|            1|           0|           0|\n",
      "|          2|            0|           1|           0|\n",
      "|          1|            1|           0|           0|\n",
      "|          3|            0|           1|           0|\n",
      "|          1|            1|           0|           0|\n",
      "+-----------+-------------+------------+------------+\n",
      "only showing top 10 rows\n",
      "\n"
     ]
    }
   ],
   "source": [
    "df = df.withColumn('family_single', when(df['family_size'] == 1, 1).otherwise(0))\n",
    "df = df.withColumn('family_small', when((df['family_size'] > 1) & (df['family_size'] <= 4), 1).otherwise(0))\n",
    "df = df.withColumn('family_large', when(df['family_size'] > 4, 1).otherwise(0))\n",
    "df.select('family_size', 'family_single', 'family_small', 'family_large').show(10)\n",
    "df = df.drop('family_size')"
   ]
  },
  {
   "cell_type": "code",
   "execution_count": 131,
   "metadata": {},
   "outputs": [
    {
     "data": {
      "text/plain": [
       "['pclass',\n",
       " 'survived',\n",
       " 'sex',\n",
       " 'age',\n",
       " 'sibsp',\n",
       " 'parch',\n",
       " 'embarked',\n",
       " 'home_dest',\n",
       " 'train',\n",
       " 'log_fare',\n",
       " 'title',\n",
       " 'family_single',\n",
       " 'family_small',\n",
       " 'family_large']"
      ]
     },
     "execution_count": 131,
     "metadata": {},
     "output_type": "execute_result"
    }
   ],
   "source": [
    "df.columns"
   ]
  },
  {
   "cell_type": "code",
   "execution_count": 132,
   "metadata": {},
   "outputs": [
    {
     "data": {
      "image/png": "[encoded data removed]",
      "text/plain": [
       "<Figure size 360x360 with 1 Axes>"
      ]
     },
     "metadata": {
      "needs_background": "light"
     },
     "output_type": "display_data"
    },
    {
     "data": {
      "image/png": "[encoded data removed]",
      "text/plain": [
       "<Figure size 360x360 with 1 Axes>"
      ]
     },
     "metadata": {
      "needs_background": "light"
     },
     "output_type": "display_data"
    },
    {
     "data": {
      "image/png": "[encoded data removed]",
      "text/plain": [
       "<Figure size 360x360 with 1 Axes>"
      ]
     },
     "metadata": {
      "needs_background": "light"
     },
     "output_type": "display_data"
    }
   ],
   "source": [
    "for fsize in ['single', 'small', 'large']:\n",
    "    g = sns.catplot(x=f'family_{fsize}',y='survived',data=df.toPandas(),kind=\"bar\")\n",
    "    g = g.set_ylabels(\"Survival Probability\")"
   ]
  },
  {
   "cell_type": "markdown",
   "metadata": {},
   "source": [
    "## Ejercicio 6: Fitteo de regresión logistica"
   ]
  },
  {
   "cell_type": "code",
   "execution_count": 133,
   "metadata": {},
   "outputs": [
    {
     "name": "stdout",
     "output_type": "stream",
     "text": [
      "+--------------+--------------+-------------+-------------+\n",
      "|categoryIndex1|categoryIndex2| categoryVec1| categoryVec2|\n",
      "+--------------+--------------+-------------+-------------+\n",
      "|           0.0|           1.0|(2,[0],[1.0])|(2,[1],[1.0])|\n",
      "|           1.0|           0.0|(2,[1],[1.0])|(2,[0],[1.0])|\n",
      "|           2.0|           1.0|    (2,[],[])|(2,[1],[1.0])|\n",
      "|           0.0|           2.0|(2,[0],[1.0])|    (2,[],[])|\n",
      "|           0.0|           1.0|(2,[0],[1.0])|(2,[1],[1.0])|\n",
      "|           2.0|           0.0|    (2,[],[])|(2,[0],[1.0])|\n",
      "+--------------+--------------+-------------+-------------+\n",
      "\n"
     ]
    }
   ],
   "source": [
    "from pyspark.ml.feature import OneHotEncoderEstimator\n",
    "\n",
    "df = spark.createDataFrame([\n",
    "    (0.0, 1.0),\n",
    "    (1.0, 0.0),\n",
    "    (2.0, 1.0),\n",
    "    (0.0, 2.0),\n",
    "    (0.0, 1.0),\n",
    "    (2.0, 0.0)\n",
    "], [\"categoryIndex1\", \"categoryIndex2\"])\n",
    "\n",
    "encoder = OneHotEncoderEstimator(inputCols=[\"categoryIndex1\", \"categoryIndex2\"],\n",
    "                                 outputCols=[\"categoryVec1\", \"categoryVec2\"])\n",
    "model = encoder.fit(df)\n",
    "encoded = model.transform(df)\n",
    "encoded.show()"
   ]
  },
  {
   "cell_type": "code",
   "execution_count": null,
   "metadata": {},
   "outputs": [],
   "source": [
    "df['home.dest'].value_counts().index.values[0: 10]"
   ]
  },
  {
   "cell_type": "code",
   "execution_count": null,
   "metadata": {},
   "outputs": [],
   "source": [
    "def _encode_categorical(df, top=20):\n",
    "    logger.info(\"Filtering categorical columns top values...\")\n",
    "    cat_cols = _get_typed_cols(df, col_type='cat')\n",
    "    logger.info(f\"Categorical columns:\\n {cat_cols}\")\n",
    "\n",
    "    for c in cat_cols:\n",
    "        top_categories = df[c].value_counts().index.values[0:top]\n",
    "        logger.info(f\"Top categories for {c}:\\n {top_categories}\")\n",
    "        df[c] = df[c].where(df[c].isin(top_categories), other='OTHER')\n",
    "\n",
    "    logger.info(\"Getting dummies from top categories...\")\n",
    "    df = pd.get_dummies(df, columns=cat_cols, drop_first=False)\n",
    "    logger.info(\n",
    "        f\"{len(df.columns)} columns after dummies:\\n \" f\"{sorted(df.columns.tolist())}\"\n",
    "    )\n",
    "    return df"
   ]
  },
  {
   "cell_type": "code",
   "execution_count": null,
   "metadata": {},
   "outputs": [],
   "source": [
    "df = _encode_categorical(df)"
   ]
  },
  {
   "cell_type": "code",
   "execution_count": null,
   "metadata": {},
   "outputs": [],
   "source": [
    "df.columns"
   ]
  },
  {
   "cell_type": "code",
   "execution_count": null,
   "metadata": {},
   "outputs": [],
   "source": [
    "df_train = df[df['train']]\n",
    "df_test = df[~df['train']]\n",
    "y_train = df_train['survived']\n",
    "y_test = df_test['survived']\n",
    "X_train = df_train.drop(['survived', 'train'], axis=1)\n",
    "X_test = df_test.drop(['survived', 'train'], axis=1)"
   ]
  },
  {
   "cell_type": "code",
   "execution_count": null,
   "metadata": {},
   "outputs": [],
   "source": [
    "'age' in X_test.columns"
   ]
  },
  {
   "cell_type": "code",
   "execution_count": null,
   "metadata": {},
   "outputs": [],
   "source": [
    "from sklearn.linear_model import LogisticRegression"
   ]
  },
  {
   "cell_type": "code",
   "execution_count": null,
   "metadata": {},
   "outputs": [],
   "source": [
    "lr = LogisticRegression()\n",
    "lr.fit(X_train, y_train)\n",
    "y_pred = lr.predict(X_test)\n",
    "y_pred_proba = lr.predict_proba(X_test)[:, 1]"
   ]
  },
  {
   "cell_type": "code",
   "execution_count": null,
   "metadata": {},
   "outputs": [],
   "source": [
    "y_pred"
   ]
  },
  {
   "cell_type": "code",
   "execution_count": null,
   "metadata": {},
   "outputs": [],
   "source": [
    "y_pred_proba"
   ]
  },
  {
   "cell_type": "code",
   "execution_count": null,
   "metadata": {},
   "outputs": [],
   "source": [
    "lr.score?"
   ]
  },
  {
   "cell_type": "code",
   "execution_count": null,
   "metadata": {},
   "outputs": [],
   "source": [
    "lr.score(X_train, y_train)"
   ]
  },
  {
   "cell_type": "code",
   "execution_count": null,
   "metadata": {},
   "outputs": [],
   "source": [
    "lr.score(X_test, y_test)"
   ]
  },
  {
   "cell_type": "code",
   "execution_count": null,
   "metadata": {},
   "outputs": [],
   "source": [
    "import sklearn.metrics as metrics"
   ]
  },
  {
   "cell_type": "code",
   "execution_count": null,
   "metadata": {},
   "outputs": [],
   "source": [
    "roc_score = metrics.roc_auc_score(y_test, y_pred_proba)\n",
    "roc_score"
   ]
  },
  {
   "cell_type": "code",
   "execution_count": null,
   "metadata": {},
   "outputs": [],
   "source": [
    "f1_score = metrics.f1_score(y_test, y_pred)\n",
    "f1_score"
   ]
  },
  {
   "cell_type": "code",
   "execution_count": null,
   "metadata": {},
   "outputs": [],
   "source": [
    "cr = metrics.classification_report(y_test, y_pred)\n",
    "print(cr)"
   ]
  },
  {
   "cell_type": "markdown",
   "metadata": {},
   "source": [
    "## Ejercicio 7: árboles"
   ]
  },
  {
   "cell_type": "code",
   "execution_count": null,
   "metadata": {},
   "outputs": [],
   "source": [
    "from sklearn import tree"
   ]
  },
  {
   "cell_type": "code",
   "execution_count": null,
   "metadata": {},
   "outputs": [],
   "source": [
    "dt = tree.DecisionTreeClassifier()\n",
    "dt = dt.fit(X_train, y_train)\n",
    "y_pred = dt.predict(X_test)\n",
    "y_pred_proba = dt.predict_proba(X_test)[:, 1]"
   ]
  },
  {
   "cell_type": "code",
   "execution_count": null,
   "metadata": {},
   "outputs": [],
   "source": [
    "tree.plot_tree(dt)"
   ]
  },
  {
   "cell_type": "code",
   "execution_count": null,
   "metadata": {},
   "outputs": [],
   "source": [
    "dt.score(X_train, y_train)"
   ]
  },
  {
   "cell_type": "code",
   "execution_count": null,
   "metadata": {},
   "outputs": [],
   "source": [
    "dt.score(X_test, y_test)"
   ]
  },
  {
   "cell_type": "code",
   "execution_count": null,
   "metadata": {},
   "outputs": [],
   "source": [
    "# Random forest\n",
    "from sklearn.ensemble import RandomForestClassifier"
   ]
  },
  {
   "cell_type": "code",
   "execution_count": null,
   "metadata": {},
   "outputs": [],
   "source": [
    "rf = RandomForestClassifier(n_estimators=100, max_depth=5, n_jobs=-1, verbose=2,)\n",
    "rf = rf.fit(X_train, y_train)\n",
    "y_pred = rf.predict(X_test)\n",
    "y_pred_proba = rf.predict_proba(X_test)[:, 1]\n",
    "print(rf.score(X_train, y_train))\n",
    "print(rf.score(X_test, y_test))"
   ]
  },
  {
   "cell_type": "code",
   "execution_count": null,
   "metadata": {},
   "outputs": [],
   "source": [
    "importances = rf.feature_importances_\n",
    "indices = np.argsort(importances)[::-1]\n",
    "feat_import = list(\n",
    "zip(np.asanyarray(X_train.columns)[indices], importances[indices])\n",
    ")\n",
    "feat_import = pd.DataFrame(feat_import, columns=['feature', 'importance'])"
   ]
  },
  {
   "cell_type": "code",
   "execution_count": null,
   "metadata": {},
   "outputs": [],
   "source": [
    "feat_import"
   ]
  },
  {
   "cell_type": "code",
   "execution_count": null,
   "metadata": {},
   "outputs": [],
   "source": [
    "ax = feat_import[:20].plot(kind='bar')\n",
    "ax.set_xticklabels(feat_import[:20]['feature'].tolist())"
   ]
  },
  {
   "cell_type": "code",
   "execution_count": null,
   "metadata": {},
   "outputs": [],
   "source": [
    "spark.stop()"
   ]
  }
 ],
 "metadata": {
  "kernelspec": {
   "display_name": "Python 3",
   "language": "python",
   "name": "python3"
  },
  "language_info": {
   "codemirror_mode": {
    "name": "ipython",
    "version": 3
   },
   "file_extension": ".py",
   "mimetype": "text/x-python",
   "name": "python",
   "nbconvert_exporter": "python",
   "pygments_lexer": "ipython3",
   "version": "3.7.3"
  }
 },
 "nbformat": 4,
 "nbformat_minor": 2
}
